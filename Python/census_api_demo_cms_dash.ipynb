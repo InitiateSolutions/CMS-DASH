{
 "cells": [
  {
   "cell_type": "markdown",
   "metadata": {},
   "source": [
    "## Pulling Census Data from Census API for CMS DASH TC #1"
   ]
  },
  {
   "cell_type": "markdown",
   "metadata": {},
   "source": [
    "Kevin Chamberlain \n",
    "5/27/2021"
   ]
  },
  {
   "cell_type": "markdown",
   "metadata": {},
   "source": [
    "**Purpose of this notebook:** Pull Census ACS social, economic, housing, and demographic data from 5-yr tables: DP02, DP03, DP04, and DP05 for CMS DASH Tech Challenge #1"
   ]
  },
  {
   "cell_type": "markdown",
   "metadata": {},
   "source": [
    "**Setup:** Import packages and initiate API connection"
   ]
  },
  {
   "cell_type": "code",
   "execution_count": 34,
   "metadata": {},
   "outputs": [
    {
     "name": "stdout",
     "output_type": "stream",
     "text": [
      "3.7.9 (default, Aug 31 2020, 17:10:11) [MSC v.1916 64 bit (AMD64)]\n"
     ]
    }
   ],
   "source": [
    "## Check system version\n",
    "import sys\n",
    "print (sys.version)\n",
    "## Python 3.7.9"
   ]
  },
  {
   "cell_type": "code",
   "execution_count": 35,
   "metadata": {},
   "outputs": [],
   "source": [
    "## Import required packages\n",
    "from census import Census # Package to utilize Census API\n",
    "import pandas as pd # Python's core datafrmae package\n",
    "from pandas.io.json import json_normalize # Used to convert API pulls \n",
    "                                          # to dataframes"
   ]
  },
  {
   "cell_type": "markdown",
   "metadata": {},
   "source": [
    "Datasets available through the census package:\n",
    "* ACS 5-Year Estimates dating back to 2010\n",
    "* ACS 1-Year Estimates and data profiles dating back to 2012\n",
    "* Census Summary Files for 1990, 2000, and 2010"
   ]
  },
  {
   "cell_type": "markdown",
   "metadata": {},
   "source": [
    "Set ACS API Key and Year. Using 2019, 5-yr data. "
   ]
  },
  {
   "cell_type": "code",
   "execution_count": 36,
   "metadata": {},
   "outputs": [],
   "source": [
    "c = Census(\"1da477885b9ba806514e53f06b5168e519c5c987\", year = 2017) \n",
    "## Establishes API connection to the Census"
   ]
  },
  {
   "cell_type": "markdown",
   "metadata": {},
   "source": [
    "Confirm available tables. Will need to transform the data pull from JSON format into a dataframe."
   ]
  },
  {
   "cell_type": "code",
   "execution_count": 37,
   "metadata": {},
   "outputs": [],
   "source": [
    "## Create JSON of available tables for 2019 5-year ACS Estimates\n",
    "acs_tables = c.acs5dp.tables()\n",
    "## without doing any transformation - JSON format key-value pairs"
   ]
  },
  {
   "cell_type": "code",
   "execution_count": 38,
   "metadata": {},
   "outputs": [
    {
     "data": {
      "text/html": [
       "<div>\n",
       "<style scoped>\n",
       "    .dataframe tbody tr th:only-of-type {\n",
       "        vertical-align: middle;\n",
       "    }\n",
       "\n",
       "    .dataframe tbody tr th {\n",
       "        vertical-align: top;\n",
       "    }\n",
       "\n",
       "    .dataframe thead th {\n",
       "        text-align: right;\n",
       "    }\n",
       "</style>\n",
       "<table border=\"1\" class=\"dataframe\">\n",
       "  <thead>\n",
       "    <tr style=\"text-align: right;\">\n",
       "      <th></th>\n",
       "      <th>name</th>\n",
       "      <th>description</th>\n",
       "      <th>variables</th>\n",
       "    </tr>\n",
       "  </thead>\n",
       "  <tbody>\n",
       "    <tr>\n",
       "      <th>0</th>\n",
       "      <td>DP04</td>\n",
       "      <td>SELECTED HOUSING CHARACTERISTICS</td>\n",
       "      <td>https://api.census.gov/data/2017/acs/acs5/prof...</td>\n",
       "    </tr>\n",
       "    <tr>\n",
       "      <th>1</th>\n",
       "      <td>DP05</td>\n",
       "      <td>ACS DEMOGRAPHIC AND HOUSING ESTIMATES</td>\n",
       "      <td>https://api.census.gov/data/2017/acs/acs5/prof...</td>\n",
       "    </tr>\n",
       "    <tr>\n",
       "      <th>2</th>\n",
       "      <td>DP02PR</td>\n",
       "      <td>SELECTED SOCIAL CHARACTERISTICS IN PUERTO RICO</td>\n",
       "      <td>https://api.census.gov/data/2017/acs/acs5/prof...</td>\n",
       "    </tr>\n",
       "    <tr>\n",
       "      <th>3</th>\n",
       "      <td>DP02</td>\n",
       "      <td>SELECTED SOCIAL CHARACTERISTICS IN THE UNITED ...</td>\n",
       "      <td>https://api.census.gov/data/2017/acs/acs5/prof...</td>\n",
       "    </tr>\n",
       "    <tr>\n",
       "      <th>4</th>\n",
       "      <td>DP03</td>\n",
       "      <td>SELECTED ECONOMIC CHARACTERISTICS</td>\n",
       "      <td>https://api.census.gov/data/2017/acs/acs5/prof...</td>\n",
       "    </tr>\n",
       "  </tbody>\n",
       "</table>\n",
       "</div>"
      ],
      "text/plain": [
       "     name                                        description  \\\n",
       "0    DP04                   SELECTED HOUSING CHARACTERISTICS   \n",
       "1    DP05              ACS DEMOGRAPHIC AND HOUSING ESTIMATES   \n",
       "2  DP02PR     SELECTED SOCIAL CHARACTERISTICS IN PUERTO RICO   \n",
       "3    DP02  SELECTED SOCIAL CHARACTERISTICS IN THE UNITED ...   \n",
       "4    DP03                  SELECTED ECONOMIC CHARACTERISTICS   \n",
       "\n",
       "                                           variables  \n",
       "0  https://api.census.gov/data/2017/acs/acs5/prof...  \n",
       "1  https://api.census.gov/data/2017/acs/acs5/prof...  \n",
       "2  https://api.census.gov/data/2017/acs/acs5/prof...  \n",
       "3  https://api.census.gov/data/2017/acs/acs5/prof...  \n",
       "4  https://api.census.gov/data/2017/acs/acs5/prof...  "
      ]
     },
     "execution_count": 38,
     "metadata": {},
     "output_type": "execute_result"
    }
   ],
   "source": [
    "## Transform JSON format into a dataframe usin the json_normalize package\n",
    "df_acs_tables = pd.json_normalize(acs_tables)\n",
    "df_acs_tables.head(5)"
   ]
  },
  {
   "cell_type": "markdown",
   "metadata": {},
   "source": [
    "Review the following link to better understand the ACS table structures: [ACS Table Groupings](https://api.census.gov/data/2017/acs/acs5.html 'ACS Table Groupings')  \n",
    "\n",
    "You can only access Detailed Tables through this API connection (those tables that start with B or C). You cannot access Subject Tables. That isn't a major issue, however, as Subject Tables are essentially aggregations of Detailed Tables."
   ]
  },
  {
   "cell_type": "markdown",
   "metadata": {},
   "source": [
    "**Geographic Levels Available for 5-year ACS:**  \n",
    "* State\n",
    "* State - County\n",
    "* State - County - Blockgroup\n",
    "* State - County - Subdivision\n",
    "* **State - County - Tract**\n",
    "* State - Place\n",
    "* State - Congressional District\n",
    "* State - Upper Legislative District\n",
    "* State - Lower Level District\n",
    "* Zipcode\n",
    "* US (National)"
   ]
  },
  {
   "cell_type": "markdown",
   "metadata": {},
   "source": [
    "I have highlighted State-County-Tract because that's what I'll be demonstrating. One of the challenges with using this level of data is that the package (and maybe the Census API) restricts tract-level data calls to one state at a time. Therefore, if you're trying to pull tract-level data for all states, you either need to iterate through 50 data calls...or write a function!"
   ]
  },
  {
   "cell_type": "markdown",
   "metadata": {},
   "source": [
    "**Aside - What is a census tract?** An area roughly equivalent to a neighborhood established by the Bureau of Census for analyzing populations. They generally encompass a population between 2,500 to 8,000 people, but certain census tracts do have populations of 0 (bodies of water, airports, mountain ranges, etc.) Census tracts do not adhere to political boundaries."
   ]
  },
  {
   "cell_type": "markdown",
   "metadata": {},
   "source": [
    "**Create function for API data calls**"
   ]
  },
  {
   "cell_type": "markdown",
   "metadata": {},
   "source": [
    "Note the API can be a bit finnicky at times and not work the first time around (doesn't happen often). If it does happen, re-run the code cell and it should work the second time."
   ]
  },
  {
   "cell_type": "code",
   "execution_count": 67,
   "metadata": {},
   "outputs": [],
   "source": [
    "def acs_api_pull(variables, states):\n",
    "    '''Iterate through ACS API data pulls by state and variables identified. \n",
    "    Then combine those separate data files into one list. Return a dataframe'''\n",
    "    output_list = []\n",
    "    for s in states:\n",
    "        output_list += c.acs5.state_county_tract(variables,\n",
    "                                                s, Census.ALL, Census.ALL)\n",
    "    output_df = json_normalize(output_list)\n",
    "    return output_df"
   ]
  },
  {
   "cell_type": "markdown",
   "metadata": {},
   "source": [
    "acs5.state_county_tract comes from the census package. It is the command used to pull 5-year ACS data at the tract level. The c at the beginning is our API connection initalized above. The inputs to the command (not the function) include:\n",
    "* Variables we want pulled (variables)\n",
    "* States to be included (s)\n",
    "* Counties to be included (in this case all - Census.ALL)\n",
    "* Tracts to be included (in this case all - Census.ALL)"
   ]
  },
  {
   "cell_type": "markdown",
   "metadata": {},
   "source": [
    "In order for the above function to pull all state data at once, you will need to import a data file witl all state FIPS codes. DC and Puerto Rico are included in this list"
   ]
  },
  {
   "cell_type": "code",
   "execution_count": 68,
   "metadata": {},
   "outputs": [
    {
     "data": {
      "text/html": [
       "<div>\n",
       "<style scoped>\n",
       "    .dataframe tbody tr th:only-of-type {\n",
       "        vertical-align: middle;\n",
       "    }\n",
       "\n",
       "    .dataframe tbody tr th {\n",
       "        vertical-align: top;\n",
       "    }\n",
       "\n",
       "    .dataframe thead th {\n",
       "        text-align: right;\n",
       "    }\n",
       "</style>\n",
       "<table border=\"1\" class=\"dataframe\">\n",
       "  <thead>\n",
       "    <tr style=\"text-align: right;\">\n",
       "      <th></th>\n",
       "      <th>state_fips</th>\n",
       "      <th>state_abbrev</th>\n",
       "      <th>state_upper</th>\n",
       "      <th>state_name</th>\n",
       "    </tr>\n",
       "  </thead>\n",
       "  <tbody>\n",
       "    <tr>\n",
       "      <th>0</th>\n",
       "      <td>01</td>\n",
       "      <td>AL</td>\n",
       "      <td>ALABAMA</td>\n",
       "      <td>Alabama</td>\n",
       "    </tr>\n",
       "    <tr>\n",
       "      <th>1</th>\n",
       "      <td>02</td>\n",
       "      <td>AK</td>\n",
       "      <td>ALASKA</td>\n",
       "      <td>Alaska</td>\n",
       "    </tr>\n",
       "    <tr>\n",
       "      <th>2</th>\n",
       "      <td>04</td>\n",
       "      <td>AZ</td>\n",
       "      <td>ARIZONA</td>\n",
       "      <td>Arizona</td>\n",
       "    </tr>\n",
       "    <tr>\n",
       "      <th>3</th>\n",
       "      <td>05</td>\n",
       "      <td>AR</td>\n",
       "      <td>ARKANSAS</td>\n",
       "      <td>Arkansas</td>\n",
       "    </tr>\n",
       "    <tr>\n",
       "      <th>4</th>\n",
       "      <td>06</td>\n",
       "      <td>CA</td>\n",
       "      <td>CALIFORNIA</td>\n",
       "      <td>California</td>\n",
       "    </tr>\n",
       "  </tbody>\n",
       "</table>\n",
       "</div>"
      ],
      "text/plain": [
       "  state_fips state_abbrev state_upper  state_name\n",
       "0         01           AL     ALABAMA     Alabama\n",
       "1         02           AK      ALASKA      Alaska\n",
       "2         04           AZ     ARIZONA     Arizona\n",
       "3         05           AR    ARKANSAS    Arkansas\n",
       "4         06           CA  CALIFORNIA  California"
      ]
     },
     "execution_count": 68,
     "metadata": {},
     "output_type": "execute_result"
    }
   ],
   "source": [
    "## Need to import a data file with all state FIPS codes to use with data call\n",
    "state_fips = pd.read_csv('C:\\\\Users\\\\30640\\\\OneDrive - ICF\\\\Reference_Data\\\\us_states_v3.csv', dtype = {'state_fips': str})\n",
    "state_fips.state_fips = state_fips.state_fips.str.zfill(2)\n",
    "state_fips.head(5)\n",
    "## If you want to exclude certain states from your data pull,\n",
    "## you can filter them out here."
   ]
  },
  {
   "cell_type": "code",
   "execution_count": 69,
   "metadata": {},
   "outputs": [],
   "source": [
    "## Need to convert FIPS codes into a list for use with the function\n",
    "state_fips_list = list(state_fips.state_fips)"
   ]
  },
  {
   "cell_type": "code",
   "execution_count": 94,
   "metadata": {},
   "outputs": [],
   "source": [
    "df_built_raw = pd.read_csv('C:\\\\Users\\\\30640\\\\Desktop\\\\ACSDP5Y2019.DP05_2021-05-28T121533\\\\ACSDP5Y2019.DP05_data_with_overlays_2021-05-27T095905.csv', low_memory=False)"
   ]
  },
  {
   "cell_type": "code",
   "execution_count": 95,
   "metadata": {},
   "outputs": [],
   "source": [
    "df_built_raw = df_built_raw.filter(['GEO_ID','NAME','DP05_0001E','DP05_0033E','DP05_0037E','DP05_0038E','DP05_0039E',\n",
    "                            'DP05_0044E','DP05_0045E','DP05_0059E','DP05_0071E','DP05_0078E',\n",
    "                            'DP05_0002E','DP05_0003E'])"
   ]
  },
  {
   "cell_type": "markdown",
   "metadata": {},
   "source": [
    "**Census API Data Pull: Select Demographic Characteristics from Table DP05**  "
   ]
  },
  {
   "cell_type": "code",
   "execution_count": 91,
   "metadata": {},
   "outputs": [
    {
     "name": "stderr",
     "output_type": "stream",
     "text": [
      "C:\\Users\\30640\\AppData\\Local\\Continuum\\anaconda3\\lib\\site-packages\\ipykernel_launcher.py:8: FutureWarning: pandas.io.json.json_normalize is deprecated, use pandas.json_normalize instead\n",
      "  \n"
     ]
    }
   ],
   "source": [
    "## Pulling the estimate values for listed variables from Census API. \n",
    "df_built_raw = acs_api_pull(['DP05_0001E','DP05_0033E','DP05_0037E','DP05_0038E','DP05_0039E',\n",
    "                            'DP05_0044E','DP05_0045E','DP05_0059E','DP05_0071E','DP05_0078E',\n",
    "                            'DP05_0002E','DP05_0003E'], state_fips_list)"
   ]
  },
  {
   "cell_type": "code",
   "execution_count": 96,
   "metadata": {},
   "outputs": [
    {
     "data": {
      "text/plain": [
       "(3220, 14)"
      ]
     },
     "execution_count": 96,
     "metadata": {},
     "output_type": "execute_result"
    }
   ],
   "source": [
    "## Get number of rows (counties) and columns (variables)\n",
    "df_built_raw.shape"
   ]
  },
  {
   "cell_type": "code",
   "execution_count": 105,
   "metadata": {},
   "outputs": [
    {
     "data": {
      "text/html": [
       "<div>\n",
       "<style scoped>\n",
       "    .dataframe tbody tr th:only-of-type {\n",
       "        vertical-align: middle;\n",
       "    }\n",
       "\n",
       "    .dataframe tbody tr th {\n",
       "        vertical-align: top;\n",
       "    }\n",
       "\n",
       "    .dataframe thead th {\n",
       "        text-align: right;\n",
       "    }\n",
       "</style>\n",
       "<table border=\"1\" class=\"dataframe\">\n",
       "  <thead>\n",
       "    <tr style=\"text-align: right;\">\n",
       "      <th></th>\n",
       "      <th>GEO_ID</th>\n",
       "      <th>NAME</th>\n",
       "      <th>DP05_0001E</th>\n",
       "      <th>DP05_0033E</th>\n",
       "      <th>DP05_0037E</th>\n",
       "      <th>DP05_0038E</th>\n",
       "      <th>DP05_0039E</th>\n",
       "      <th>DP05_0044E</th>\n",
       "      <th>DP05_0045E</th>\n",
       "      <th>DP05_0059E</th>\n",
       "      <th>DP05_0071E</th>\n",
       "      <th>DP05_0078E</th>\n",
       "      <th>DP05_0002E</th>\n",
       "      <th>DP05_0003E</th>\n",
       "      <th>FIPS</th>\n",
       "    </tr>\n",
       "  </thead>\n",
       "  <tbody>\n",
       "    <tr>\n",
       "      <th>0</th>\n",
       "      <td>0500000US01001</td>\n",
       "      <td>Autauga County, Alabama</td>\n",
       "      <td>55380</td>\n",
       "      <td>55380</td>\n",
       "      <td>42527</td>\n",
       "      <td>10538</td>\n",
       "      <td>140</td>\n",
       "      <td>573</td>\n",
       "      <td>0</td>\n",
       "      <td>464</td>\n",
       "      <td>1565</td>\n",
       "      <td>10524</td>\n",
       "      <td>26934</td>\n",
       "      <td>28446</td>\n",
       "      <td>01001</td>\n",
       "    </tr>\n",
       "  </tbody>\n",
       "</table>\n",
       "</div>"
      ],
      "text/plain": [
       "           GEO_ID                     NAME  DP05_0001E  DP05_0033E  \\\n",
       "0  0500000US01001  Autauga County, Alabama       55380       55380   \n",
       "\n",
       "   DP05_0037E  DP05_0038E  DP05_0039E  DP05_0044E  DP05_0045E  DP05_0059E  \\\n",
       "0       42527       10538         140         573           0         464   \n",
       "\n",
       "   DP05_0071E  DP05_0078E  DP05_0002E  DP05_0003E   FIPS  \n",
       "0        1565       10524       26934       28446  01001  "
      ]
     },
     "execution_count": 105,
     "metadata": {},
     "output_type": "execute_result"
    }
   ],
   "source": [
    "# Get last 5 from GEO_ID and create new county FIPS column\n",
    "df_built_raw['FIPS'] = df_built_raw['GEO_ID'].str[-5:]\n",
    "df_built_raw.head(1)"
   ]
  },
  {
   "cell_type": "code",
   "execution_count": 106,
   "metadata": {},
   "outputs": [],
   "source": [
    "## Make copy of data frame to avoid making the API call again\n",
    "df_built_clean = df_built_raw.copy()"
   ]
  },
  {
   "cell_type": "code",
   "execution_count": 108,
   "metadata": {},
   "outputs": [
    {
     "data": {
      "text/plain": [
       "GEO_ID        0\n",
       "NAME          0\n",
       "DP05_0001E    0\n",
       "DP05_0033E    0\n",
       "DP05_0037E    0\n",
       "DP05_0038E    0\n",
       "DP05_0039E    0\n",
       "DP05_0044E    0\n",
       "DP05_0045E    0\n",
       "DP05_0059E    0\n",
       "DP05_0071E    0\n",
       "DP05_0078E    0\n",
       "DP05_0002E    0\n",
       "DP05_0003E    0\n",
       "FIPS          0\n",
       "dtype: int64"
      ]
     },
     "execution_count": 108,
     "metadata": {},
     "output_type": "execute_result"
    }
   ],
   "source": [
    "## Review data frame to confirm no null values\n",
    "df_built_clean.isnull().sum()"
   ]
  },
  {
   "cell_type": "code",
   "execution_count": 49,
   "metadata": {},
   "outputs": [],
   "source": [
    "## Create geo_id\n",
    "df_built_clean['geo_id'] = df_built_clean.state + df_built_clean.county + df_built_clean.tract"
   ]
  },
  {
   "cell_type": "code",
   "execution_count": 50,
   "metadata": {},
   "outputs": [],
   "source": [
    "## Rename columns\n",
    "df_built_clean.rename(columns = {'B25034_001E' : 'est_total',\n",
    "                                 'B25034_011E' : 'est_1940'},\n",
    "                                inplace = True)"
   ]
  },
  {
   "cell_type": "code",
   "execution_count": 51,
   "metadata": {},
   "outputs": [],
   "source": [
    "## Reorder columns\n",
    "df_built_clean = df_built_clean[['geo_id', 'state', 'county', 'tract', 'est_total',\n",
    "                                  'est_1940']]"
   ]
  },
  {
   "cell_type": "code",
   "execution_count": 52,
   "metadata": {},
   "outputs": [
    {
     "data": {
      "text/plain": [
       "False    72877\n",
       "Name: est_total, dtype: int64"
      ]
     },
     "execution_count": 52,
     "metadata": {},
     "output_type": "execute_result"
    }
   ],
   "source": [
    "## Check for nulls\n",
    "df_built_clean.est_total.isnull().value_counts() # No nulls"
   ]
  },
  {
   "cell_type": "code",
   "execution_count": 53,
   "metadata": {},
   "outputs": [
    {
     "data": {
      "text/plain": [
       "792"
      ]
     },
     "execution_count": 53,
     "metadata": {},
     "output_type": "execute_result"
    }
   ],
   "source": [
    "## Count number of tracts with 0 homes\n",
    "(df_built_clean.est_total==0).sum() # 852 tracts with 0 homes"
   ]
  },
  {
   "cell_type": "code",
   "execution_count": 54,
   "metadata": {},
   "outputs": [],
   "source": [
    "## Create percent variable\n",
    "df_built_clean['pct_1940'] = (df_built_clean.est_1940/df_built_clean.est_total) * 100"
   ]
  },
  {
   "cell_type": "code",
   "execution_count": 55,
   "metadata": {},
   "outputs": [
    {
     "data": {
      "text/plain": [
       "False    72877\n",
       "Name: pct_1940, dtype: int64"
      ]
     },
     "execution_count": 55,
     "metadata": {},
     "output_type": "execute_result"
    }
   ],
   "source": [
    "## Change missing percentages to 0's\n",
    "df_built_clean['pct_1940'].fillna(0, inplace = True)\n",
    "df_built_clean.pct_1940.isnull().value_counts() # 0 instances of missing pct"
   ]
  },
  {
   "cell_type": "code",
   "execution_count": 56,
   "metadata": {},
   "outputs": [
    {
     "data": {
      "text/html": [
       "<div>\n",
       "<style scoped>\n",
       "    .dataframe tbody tr th:only-of-type {\n",
       "        vertical-align: middle;\n",
       "    }\n",
       "\n",
       "    .dataframe tbody tr th {\n",
       "        vertical-align: top;\n",
       "    }\n",
       "\n",
       "    .dataframe thead th {\n",
       "        text-align: right;\n",
       "    }\n",
       "</style>\n",
       "<table border=\"1\" class=\"dataframe\">\n",
       "  <thead>\n",
       "    <tr style=\"text-align: right;\">\n",
       "      <th></th>\n",
       "      <th>geo_id</th>\n",
       "      <th>state</th>\n",
       "      <th>county</th>\n",
       "      <th>tract</th>\n",
       "      <th>est_total</th>\n",
       "      <th>est_1940</th>\n",
       "      <th>pct_1940</th>\n",
       "    </tr>\n",
       "  </thead>\n",
       "  <tbody>\n",
       "    <tr>\n",
       "      <th>0</th>\n",
       "      <td>01073000300</td>\n",
       "      <td>01</td>\n",
       "      <td>073</td>\n",
       "      <td>000300</td>\n",
       "      <td>1161.0</td>\n",
       "      <td>183.0</td>\n",
       "      <td>15.762274</td>\n",
       "    </tr>\n",
       "    <tr>\n",
       "      <th>1</th>\n",
       "      <td>01073000400</td>\n",
       "      <td>01</td>\n",
       "      <td>073</td>\n",
       "      <td>000400</td>\n",
       "      <td>1631.0</td>\n",
       "      <td>516.0</td>\n",
       "      <td>31.637032</td>\n",
       "    </tr>\n",
       "    <tr>\n",
       "      <th>2</th>\n",
       "      <td>01073003200</td>\n",
       "      <td>01</td>\n",
       "      <td>073</td>\n",
       "      <td>003200</td>\n",
       "      <td>642.0</td>\n",
       "      <td>97.0</td>\n",
       "      <td>15.109034</td>\n",
       "    </tr>\n",
       "    <tr>\n",
       "      <th>3</th>\n",
       "      <td>01073003500</td>\n",
       "      <td>01</td>\n",
       "      <td>073</td>\n",
       "      <td>003500</td>\n",
       "      <td>1240.0</td>\n",
       "      <td>321.0</td>\n",
       "      <td>25.887097</td>\n",
       "    </tr>\n",
       "    <tr>\n",
       "      <th>4</th>\n",
       "      <td>01073003700</td>\n",
       "      <td>01</td>\n",
       "      <td>073</td>\n",
       "      <td>003700</td>\n",
       "      <td>2378.0</td>\n",
       "      <td>510.0</td>\n",
       "      <td>21.446594</td>\n",
       "    </tr>\n",
       "    <tr>\n",
       "      <th>5</th>\n",
       "      <td>01073004701</td>\n",
       "      <td>01</td>\n",
       "      <td>073</td>\n",
       "      <td>004701</td>\n",
       "      <td>2719.0</td>\n",
       "      <td>1176.0</td>\n",
       "      <td>43.251195</td>\n",
       "    </tr>\n",
       "    <tr>\n",
       "      <th>6</th>\n",
       "      <td>01073005600</td>\n",
       "      <td>01</td>\n",
       "      <td>073</td>\n",
       "      <td>005600</td>\n",
       "      <td>2523.0</td>\n",
       "      <td>19.0</td>\n",
       "      <td>0.753072</td>\n",
       "    </tr>\n",
       "    <tr>\n",
       "      <th>7</th>\n",
       "      <td>01073010301</td>\n",
       "      <td>01</td>\n",
       "      <td>073</td>\n",
       "      <td>010301</td>\n",
       "      <td>1363.0</td>\n",
       "      <td>452.0</td>\n",
       "      <td>33.162142</td>\n",
       "    </tr>\n",
       "    <tr>\n",
       "      <th>8</th>\n",
       "      <td>01073010602</td>\n",
       "      <td>01</td>\n",
       "      <td>073</td>\n",
       "      <td>010602</td>\n",
       "      <td>3007.0</td>\n",
       "      <td>792.0</td>\n",
       "      <td>26.338543</td>\n",
       "    </tr>\n",
       "    <tr>\n",
       "      <th>9</th>\n",
       "      <td>01073011500</td>\n",
       "      <td>01</td>\n",
       "      <td>073</td>\n",
       "      <td>011500</td>\n",
       "      <td>2352.0</td>\n",
       "      <td>30.0</td>\n",
       "      <td>1.275510</td>\n",
       "    </tr>\n",
       "  </tbody>\n",
       "</table>\n",
       "</div>"
      ],
      "text/plain": [
       "        geo_id state county   tract  est_total  est_1940   pct_1940\n",
       "0  01073000300    01    073  000300     1161.0     183.0  15.762274\n",
       "1  01073000400    01    073  000400     1631.0     516.0  31.637032\n",
       "2  01073003200    01    073  003200      642.0      97.0  15.109034\n",
       "3  01073003500    01    073  003500     1240.0     321.0  25.887097\n",
       "4  01073003700    01    073  003700     2378.0     510.0  21.446594\n",
       "5  01073004701    01    073  004701     2719.0    1176.0  43.251195\n",
       "6  01073005600    01    073  005600     2523.0      19.0   0.753072\n",
       "7  01073010301    01    073  010301     1363.0     452.0  33.162142\n",
       "8  01073010602    01    073  010602     3007.0     792.0  26.338543\n",
       "9  01073011500    01    073  011500     2352.0      30.0   1.275510"
      ]
     },
     "execution_count": 56,
     "metadata": {},
     "output_type": "execute_result"
    }
   ],
   "source": [
    "# Review\n",
    "df_built_clean.head(10)"
   ]
  },
  {
   "cell_type": "code",
   "execution_count": 57,
   "metadata": {},
   "outputs": [
    {
     "data": {
      "text/plain": [
       "geo_id       0\n",
       "state        0\n",
       "county       0\n",
       "tract        0\n",
       "est_total    0\n",
       "est_1940     0\n",
       "pct_1940     0\n",
       "dtype: int64"
      ]
     },
     "execution_count": 57,
     "metadata": {},
     "output_type": "execute_result"
    }
   ],
   "source": [
    "## Last check for any missing values\n",
    "df_built_clean.isnull().sum() # No missing values across the board\n",
    "# Looks good"
   ]
  },
  {
   "cell_type": "markdown",
   "metadata": {},
   "source": [
    "**API Data Pull: Family Poverty**  \n",
    "Review link for additional information and data dictionary: [ACS Family Poverty](https://api.census.gov/data/2017/acs/acs5/groups/B17010.html 'ACS Family Poverty')"
   ]
  },
  {
   "cell_type": "code",
   "execution_count": 58,
   "metadata": {},
   "outputs": [
    {
     "name": "stderr",
     "output_type": "stream",
     "text": [
      "C:\\Users\\30640\\AppData\\Local\\Continuum\\anaconda3\\lib\\site-packages\\ipykernel_launcher.py:8: FutureWarning: pandas.io.json.json_normalize is deprecated, use pandas.json_normalize instead\n",
      "  \n"
     ]
    }
   ],
   "source": [
    "## Pulling the estimate values for total families\n",
    "## and families below poverty with/without children. \n",
    "df_poverty_raw = acs_api_pull(['B17010_001E', 'B17010_002E', 'B17010_004E',\n",
    "                              'B17010_005E', 'B17010_011E', 'B17010_012E',\n",
    "                              'B17010_017E', 'B17010_018E'], state_fips_list)\n",
    "## Only inputs needed are the variables of interest and\n",
    "## the list of state FIPS codes"
   ]
  },
  {
   "cell_type": "code",
   "execution_count": 59,
   "metadata": {},
   "outputs": [
    {
     "data": {
      "text/html": [
       "<div>\n",
       "<style scoped>\n",
       "    .dataframe tbody tr th:only-of-type {\n",
       "        vertical-align: middle;\n",
       "    }\n",
       "\n",
       "    .dataframe tbody tr th {\n",
       "        vertical-align: top;\n",
       "    }\n",
       "\n",
       "    .dataframe thead th {\n",
       "        text-align: right;\n",
       "    }\n",
       "</style>\n",
       "<table border=\"1\" class=\"dataframe\">\n",
       "  <thead>\n",
       "    <tr style=\"text-align: right;\">\n",
       "      <th></th>\n",
       "      <th>B17010_001E</th>\n",
       "      <th>B17010_002E</th>\n",
       "      <th>B17010_004E</th>\n",
       "      <th>B17010_005E</th>\n",
       "      <th>B17010_011E</th>\n",
       "      <th>B17010_012E</th>\n",
       "      <th>B17010_017E</th>\n",
       "      <th>B17010_018E</th>\n",
       "      <th>state</th>\n",
       "      <th>county</th>\n",
       "      <th>tract</th>\n",
       "    </tr>\n",
       "  </thead>\n",
       "  <tbody>\n",
       "    <tr>\n",
       "      <th>0</th>\n",
       "      <td>436.0</td>\n",
       "      <td>162.0</td>\n",
       "      <td>35.0</td>\n",
       "      <td>0.0</td>\n",
       "      <td>46.0</td>\n",
       "      <td>0.0</td>\n",
       "      <td>49.0</td>\n",
       "      <td>23.0</td>\n",
       "      <td>01</td>\n",
       "      <td>073</td>\n",
       "      <td>000300</td>\n",
       "    </tr>\n",
       "    <tr>\n",
       "      <th>1</th>\n",
       "      <td>840.0</td>\n",
       "      <td>245.0</td>\n",
       "      <td>0.0</td>\n",
       "      <td>0.0</td>\n",
       "      <td>0.0</td>\n",
       "      <td>0.0</td>\n",
       "      <td>169.0</td>\n",
       "      <td>34.0</td>\n",
       "      <td>01</td>\n",
       "      <td>073</td>\n",
       "      <td>000400</td>\n",
       "    </tr>\n",
       "    <tr>\n",
       "      <th>2</th>\n",
       "      <td>341.0</td>\n",
       "      <td>143.0</td>\n",
       "      <td>17.0</td>\n",
       "      <td>0.0</td>\n",
       "      <td>0.0</td>\n",
       "      <td>0.0</td>\n",
       "      <td>91.0</td>\n",
       "      <td>11.0</td>\n",
       "      <td>01</td>\n",
       "      <td>073</td>\n",
       "      <td>003200</td>\n",
       "    </tr>\n",
       "    <tr>\n",
       "      <th>3</th>\n",
       "      <td>540.0</td>\n",
       "      <td>146.0</td>\n",
       "      <td>0.0</td>\n",
       "      <td>0.0</td>\n",
       "      <td>0.0</td>\n",
       "      <td>0.0</td>\n",
       "      <td>123.0</td>\n",
       "      <td>35.0</td>\n",
       "      <td>01</td>\n",
       "      <td>073</td>\n",
       "      <td>003500</td>\n",
       "    </tr>\n",
       "    <tr>\n",
       "      <th>4</th>\n",
       "      <td>1084.0</td>\n",
       "      <td>273.0</td>\n",
       "      <td>58.0</td>\n",
       "      <td>0.0</td>\n",
       "      <td>23.0</td>\n",
       "      <td>0.0</td>\n",
       "      <td>108.0</td>\n",
       "      <td>44.0</td>\n",
       "      <td>01</td>\n",
       "      <td>073</td>\n",
       "      <td>003700</td>\n",
       "    </tr>\n",
       "  </tbody>\n",
       "</table>\n",
       "</div>"
      ],
      "text/plain": [
       "   B17010_001E  B17010_002E  B17010_004E  B17010_005E  B17010_011E  \\\n",
       "0        436.0        162.0         35.0          0.0         46.0   \n",
       "1        840.0        245.0          0.0          0.0          0.0   \n",
       "2        341.0        143.0         17.0          0.0          0.0   \n",
       "3        540.0        146.0          0.0          0.0          0.0   \n",
       "4       1084.0        273.0         58.0          0.0         23.0   \n",
       "\n",
       "   B17010_012E  B17010_017E  B17010_018E state county   tract  \n",
       "0          0.0         49.0         23.0    01    073  000300  \n",
       "1          0.0        169.0         34.0    01    073  000400  \n",
       "2          0.0         91.0         11.0    01    073  003200  \n",
       "3          0.0        123.0         35.0    01    073  003500  \n",
       "4          0.0        108.0         44.0    01    073  003700  "
      ]
     },
     "execution_count": 59,
     "metadata": {},
     "output_type": "execute_result"
    }
   ],
   "source": [
    "df_poverty_raw.head()"
   ]
  },
  {
   "cell_type": "markdown",
   "metadata": {},
   "source": [
    "Below is additional code I wrote to clean and add metrics to the data frame. Feel free to review and test."
   ]
  },
  {
   "cell_type": "code",
   "execution_count": 60,
   "metadata": {},
   "outputs": [],
   "source": [
    "## Make copy of dataframe to avoid having to perform API call again\n",
    "df_poverty_clean= df_poverty_raw.copy()"
   ]
  },
  {
   "cell_type": "code",
   "execution_count": 61,
   "metadata": {},
   "outputs": [],
   "source": [
    "## Create geo_id\n",
    "df_poverty_clean['geo_id'] = df_poverty_clean.state + df_poverty_clean.county + df_poverty_clean.tract"
   ]
  },
  {
   "cell_type": "code",
   "execution_count": 26,
   "metadata": {},
   "outputs": [],
   "source": [
    "## Rename columns\n",
    "df_poverty_clean.rename(columns = {'B17010_001E': 'fam_num',\n",
    "                                   'B17010_002E': 'fam_pov_num',\n",
    "                                   'B17010_004E': 'est_married_below_children_all',\n",
    "                                   'B17010_005E': 'est_married_below_children_under5',\n",
    "                                   'B17010_011E': 'est_male_below_children_all',\n",
    "                                   'B17010_012E': 'est_male_below_children_under5',\n",
    "                                   'B17010_017E': 'est_female_below_children_all',\n",
    "                                   'B17010_018E': 'est_female_below_children_under5'},\n",
    "                       inplace = True)"
   ]
  },
  {
   "cell_type": "code",
   "execution_count": 27,
   "metadata": {},
   "outputs": [],
   "source": [
    "## Reorder columns\n",
    "df_poverty_clean = df_poverty_clean[['geo_id', 'state', 'county', 'tract',\n",
    "                                    'fam_num', 'fam_pov_num', 'est_married_below_children_all',\n",
    "                                    'est_married_below_children_under5',\n",
    "                                    'est_male_below_children_all',\n",
    "                                    'est_male_below_children_under5',\n",
    "                                    'est_female_below_children_all',\n",
    "                                    'est_female_below_children_under5']]"
   ]
  },
  {
   "cell_type": "markdown",
   "metadata": {},
   "source": [
    "We are primarily interested in fam_num and fam_pov_num to calculate the percentage of families living within the census tract that had a poverty status within the last 12 months, regardless of the presence or age of children."
   ]
  },
  {
   "cell_type": "code",
   "execution_count": 28,
   "metadata": {},
   "outputs": [
    {
     "data": {
      "text/plain": [
       "geo_id                               0\n",
       "state                                0\n",
       "county                               0\n",
       "tract                                0\n",
       "fam_num                              0\n",
       "fam_pov_num                          0\n",
       "est_married_below_children_all       0\n",
       "est_married_below_children_under5    0\n",
       "est_male_below_children_all          0\n",
       "est_male_below_children_under5       0\n",
       "est_female_below_children_all        0\n",
       "est_female_below_children_under5     0\n",
       "dtype: int64"
      ]
     },
     "execution_count": 28,
     "metadata": {},
     "output_type": "execute_result"
    }
   ],
   "source": [
    "## Review data frame\n",
    "df_poverty_clean.isnull().sum()\n",
    "## No null values"
   ]
  },
  {
   "cell_type": "code",
   "execution_count": 29,
   "metadata": {},
   "outputs": [
    {
     "data": {
      "text/plain": [
       "928"
      ]
     },
     "execution_count": 29,
     "metadata": {},
     "output_type": "execute_result"
    }
   ],
   "source": [
    "## Check for total family counts of 0\n",
    "(df_poverty_clean.fam_num==0).sum()\n",
    "## 928 census tracts with family counts of 0"
   ]
  },
  {
   "cell_type": "code",
   "execution_count": 30,
   "metadata": {},
   "outputs": [
    {
     "data": {
      "text/plain": [
       "1037"
      ]
     },
     "execution_count": 30,
     "metadata": {},
     "output_type": "execute_result"
    }
   ],
   "source": [
    "## Check for total family counts <= 10\n",
    "(df_poverty_clean.fam_num <= 10).sum()\n",
    "## 1,037 census tracts with family counts <= 10"
   ]
  },
  {
   "cell_type": "code",
   "execution_count": 31,
   "metadata": {},
   "outputs": [],
   "source": [
    "## Create family in poverty percent column, regardless of whether or not there are children in family\n",
    "df_poverty_clean['pov_all'] = (df_poverty_clean.fam_pov_num/df_poverty_clean.fam_num) * 100"
   ]
  },
  {
   "cell_type": "code",
   "execution_count": 32,
   "metadata": {},
   "outputs": [
    {
     "data": {
      "text/plain": [
       "False    74001\n",
       "Name: pov_all, dtype: int64"
      ]
     },
     "execution_count": 32,
     "metadata": {},
     "output_type": "execute_result"
    }
   ],
   "source": [
    "## Change nulls to 0's\n",
    "df_poverty_clean.pov_all.fillna(0, inplace = True) # Replace null with 0%\n",
    "df_poverty_clean.pov_all.isnull().value_counts() # Now 0 with missing values"
   ]
  },
  {
   "cell_type": "code",
   "execution_count": 33,
   "metadata": {},
   "outputs": [],
   "source": [
    "## Create family with children in poverty percent column\n",
    "df_poverty_clean['pov_child'] = ((df_poverty_clean.est_married_below_children_all +\n",
    "                                            df_poverty_clean.est_male_below_children_all +\n",
    "                                            df_poverty_clean.est_female_below_children_all) /\n",
    "                                            df_poverty_clean.fam_num) * 100"
   ]
  },
  {
   "cell_type": "code",
   "execution_count": 34,
   "metadata": {},
   "outputs": [
    {
     "data": {
      "text/plain": [
       "False    74001\n",
       "Name: pov_child, dtype: int64"
      ]
     },
     "execution_count": 34,
     "metadata": {},
     "output_type": "execute_result"
    }
   ],
   "source": [
    "## Change nulls to 0's\n",
    "df_poverty_clean.pov_child.fillna(0, inplace = True) # Replace null with 0%\n",
    "df_poverty_clean.pov_child.isnull().value_counts() # Now 0 with missing values"
   ]
  },
  {
   "cell_type": "code",
   "execution_count": 35,
   "metadata": {},
   "outputs": [],
   "source": [
    "## Create families with only children under 5 below poverty percent column\n",
    "df_poverty_clean['pov_child5'] = ((df_poverty_clean.est_married_below_children_under5 +\n",
    "                                            df_poverty_clean.est_male_below_children_under5 +\n",
    "                                            df_poverty_clean.est_female_below_children_under5) /\n",
    "                                            df_poverty_clean.fam_num) * 100"
   ]
  },
  {
   "cell_type": "code",
   "execution_count": 36,
   "metadata": {},
   "outputs": [
    {
     "data": {
      "text/plain": [
       "False    74001\n",
       "Name: pov_child5, dtype: int64"
      ]
     },
     "execution_count": 36,
     "metadata": {},
     "output_type": "execute_result"
    }
   ],
   "source": [
    "## Change nulls to 0's\n",
    "df_poverty_clean.pov_child5.fillna(0, inplace = True) # Replace null with 0%\n",
    "df_poverty_clean.pov_child5.isnull().value_counts() # Now 0 with missing values"
   ]
  },
  {
   "cell_type": "code",
   "execution_count": 37,
   "metadata": {},
   "outputs": [
    {
     "data": {
      "text/plain": [
       "geo_id                               0\n",
       "state                                0\n",
       "county                               0\n",
       "tract                                0\n",
       "fam_num                              0\n",
       "fam_pov_num                          0\n",
       "est_married_below_children_all       0\n",
       "est_married_below_children_under5    0\n",
       "est_male_below_children_all          0\n",
       "est_male_below_children_under5       0\n",
       "est_female_below_children_all        0\n",
       "est_female_below_children_under5     0\n",
       "pov_all                              0\n",
       "pov_child                            0\n",
       "pov_child5                           0\n",
       "dtype: int64"
      ]
     },
     "execution_count": 37,
     "metadata": {},
     "output_type": "execute_result"
    }
   ],
   "source": [
    "# Check dataframe once more for missing values\n",
    "df_poverty_clean.isnull().sum() # No missing values"
   ]
  },
  {
   "cell_type": "markdown",
   "metadata": {},
   "source": [
    "**Add state, county, and tract names to datafile**"
   ]
  },
  {
   "cell_type": "code",
   "execution_count": 15,
   "metadata": {},
   "outputs": [],
   "source": [
    "acs_names = acs_api_pull('NAME', state_fips_list)"
   ]
  },
  {
   "cell_type": "code",
   "execution_count": 39,
   "metadata": {},
   "outputs": [
    {
     "data": {
      "text/html": [
       "<div>\n",
       "<style scoped>\n",
       "    .dataframe tbody tr th:only-of-type {\n",
       "        vertical-align: middle;\n",
       "    }\n",
       "\n",
       "    .dataframe tbody tr th {\n",
       "        vertical-align: top;\n",
       "    }\n",
       "\n",
       "    .dataframe thead th {\n",
       "        text-align: right;\n",
       "    }\n",
       "</style>\n",
       "<table border=\"1\" class=\"dataframe\">\n",
       "  <thead>\n",
       "    <tr style=\"text-align: right;\">\n",
       "      <th></th>\n",
       "      <th>NAME</th>\n",
       "      <th>state</th>\n",
       "      <th>county</th>\n",
       "      <th>tract</th>\n",
       "    </tr>\n",
       "  </thead>\n",
       "  <tbody>\n",
       "    <tr>\n",
       "      <th>0</th>\n",
       "      <td>Census Tract 100.01, Bibb County, Alabama</td>\n",
       "      <td>01</td>\n",
       "      <td>007</td>\n",
       "      <td>010001</td>\n",
       "    </tr>\n",
       "    <tr>\n",
       "      <th>1</th>\n",
       "      <td>Census Tract 100.02, Bibb County, Alabama</td>\n",
       "      <td>01</td>\n",
       "      <td>007</td>\n",
       "      <td>010002</td>\n",
       "    </tr>\n",
       "    <tr>\n",
       "      <th>2</th>\n",
       "      <td>Census Tract 100.03, Bibb County, Alabama</td>\n",
       "      <td>01</td>\n",
       "      <td>007</td>\n",
       "      <td>010003</td>\n",
       "    </tr>\n",
       "    <tr>\n",
       "      <th>3</th>\n",
       "      <td>Census Tract 100.04, Bibb County, Alabama</td>\n",
       "      <td>01</td>\n",
       "      <td>007</td>\n",
       "      <td>010004</td>\n",
       "    </tr>\n",
       "    <tr>\n",
       "      <th>4</th>\n",
       "      <td>Census Tract 2319, Macon County, Alabama</td>\n",
       "      <td>01</td>\n",
       "      <td>087</td>\n",
       "      <td>231900</td>\n",
       "    </tr>\n",
       "  </tbody>\n",
       "</table>\n",
       "</div>"
      ],
      "text/plain": [
       "                                        NAME state county   tract\n",
       "0  Census Tract 100.01, Bibb County, Alabama    01    007  010001\n",
       "1  Census Tract 100.02, Bibb County, Alabama    01    007  010002\n",
       "2  Census Tract 100.03, Bibb County, Alabama    01    007  010003\n",
       "3  Census Tract 100.04, Bibb County, Alabama    01    007  010004\n",
       "4   Census Tract 2319, Macon County, Alabama    01    087  231900"
      ]
     },
     "execution_count": 39,
     "metadata": {},
     "output_type": "execute_result"
    }
   ],
   "source": [
    "acs_names.head()"
   ]
  },
  {
   "cell_type": "code",
   "execution_count": 40,
   "metadata": {},
   "outputs": [
    {
     "data": {
      "text/html": [
       "<div>\n",
       "<style scoped>\n",
       "    .dataframe tbody tr th:only-of-type {\n",
       "        vertical-align: middle;\n",
       "    }\n",
       "\n",
       "    .dataframe tbody tr th {\n",
       "        vertical-align: top;\n",
       "    }\n",
       "\n",
       "    .dataframe thead th {\n",
       "        text-align: right;\n",
       "    }\n",
       "</style>\n",
       "<table border=\"1\" class=\"dataframe\">\n",
       "  <thead>\n",
       "    <tr style=\"text-align: right;\">\n",
       "      <th></th>\n",
       "      <th>NAME</th>\n",
       "      <th>state</th>\n",
       "      <th>county</th>\n",
       "      <th>tract</th>\n",
       "      <th>n_tract</th>\n",
       "      <th>n_county</th>\n",
       "      <th>n_state</th>\n",
       "    </tr>\n",
       "  </thead>\n",
       "  <tbody>\n",
       "    <tr>\n",
       "      <th>0</th>\n",
       "      <td>Census Tract 100.01, Bibb County, Alabama</td>\n",
       "      <td>01</td>\n",
       "      <td>007</td>\n",
       "      <td>010001</td>\n",
       "      <td>Census Tract 100.01</td>\n",
       "      <td>Bibb County</td>\n",
       "      <td>Alabama</td>\n",
       "    </tr>\n",
       "    <tr>\n",
       "      <th>1</th>\n",
       "      <td>Census Tract 100.02, Bibb County, Alabama</td>\n",
       "      <td>01</td>\n",
       "      <td>007</td>\n",
       "      <td>010002</td>\n",
       "      <td>Census Tract 100.02</td>\n",
       "      <td>Bibb County</td>\n",
       "      <td>Alabama</td>\n",
       "    </tr>\n",
       "    <tr>\n",
       "      <th>2</th>\n",
       "      <td>Census Tract 100.03, Bibb County, Alabama</td>\n",
       "      <td>01</td>\n",
       "      <td>007</td>\n",
       "      <td>010003</td>\n",
       "      <td>Census Tract 100.03</td>\n",
       "      <td>Bibb County</td>\n",
       "      <td>Alabama</td>\n",
       "    </tr>\n",
       "    <tr>\n",
       "      <th>3</th>\n",
       "      <td>Census Tract 100.04, Bibb County, Alabama</td>\n",
       "      <td>01</td>\n",
       "      <td>007</td>\n",
       "      <td>010004</td>\n",
       "      <td>Census Tract 100.04</td>\n",
       "      <td>Bibb County</td>\n",
       "      <td>Alabama</td>\n",
       "    </tr>\n",
       "    <tr>\n",
       "      <th>4</th>\n",
       "      <td>Census Tract 2319, Macon County, Alabama</td>\n",
       "      <td>01</td>\n",
       "      <td>087</td>\n",
       "      <td>231900</td>\n",
       "      <td>Census Tract 2319</td>\n",
       "      <td>Macon County</td>\n",
       "      <td>Alabama</td>\n",
       "    </tr>\n",
       "  </tbody>\n",
       "</table>\n",
       "</div>"
      ],
      "text/plain": [
       "                                        NAME state county   tract  \\\n",
       "0  Census Tract 100.01, Bibb County, Alabama    01    007  010001   \n",
       "1  Census Tract 100.02, Bibb County, Alabama    01    007  010002   \n",
       "2  Census Tract 100.03, Bibb County, Alabama    01    007  010003   \n",
       "3  Census Tract 100.04, Bibb County, Alabama    01    007  010004   \n",
       "4   Census Tract 2319, Macon County, Alabama    01    087  231900   \n",
       "\n",
       "               n_tract       n_county   n_state  \n",
       "0  Census Tract 100.01    Bibb County   Alabama  \n",
       "1  Census Tract 100.02    Bibb County   Alabama  \n",
       "2  Census Tract 100.03    Bibb County   Alabama  \n",
       "3  Census Tract 100.04    Bibb County   Alabama  \n",
       "4    Census Tract 2319   Macon County   Alabama  "
      ]
     },
     "execution_count": 40,
     "metadata": {},
     "output_type": "execute_result"
    }
   ],
   "source": [
    "## Create multiple columns for state, county, and tract names\n",
    "acs_names[['n_tract', 'n_county', 'n_state']] = acs_names['NAME'].str.split(',', expand = True)\n",
    "acs_names.head()"
   ]
  },
  {
   "cell_type": "code",
   "execution_count": 110,
   "metadata": {},
   "outputs": [
    {
     "data": {
      "text/html": [
       "<div>\n",
       "<style scoped>\n",
       "    .dataframe tbody tr th:only-of-type {\n",
       "        vertical-align: middle;\n",
       "    }\n",
       "\n",
       "    .dataframe tbody tr th {\n",
       "        vertical-align: top;\n",
       "    }\n",
       "\n",
       "    .dataframe thead th {\n",
       "        text-align: right;\n",
       "    }\n",
       "</style>\n",
       "<table border=\"1\" class=\"dataframe\">\n",
       "  <thead>\n",
       "    <tr style=\"text-align: right;\">\n",
       "      <th></th>\n",
       "      <th>GEO_ID</th>\n",
       "      <th>NAME</th>\n",
       "      <th>DP05_0001E</th>\n",
       "      <th>DP05_0033E</th>\n",
       "      <th>DP05_0037E</th>\n",
       "      <th>DP05_0038E</th>\n",
       "      <th>DP05_0039E</th>\n",
       "      <th>DP05_0044E</th>\n",
       "      <th>DP05_0045E</th>\n",
       "      <th>DP05_0059E</th>\n",
       "      <th>DP05_0071E</th>\n",
       "      <th>DP05_0078E</th>\n",
       "      <th>DP05_0002E</th>\n",
       "      <th>DP05_0003E</th>\n",
       "      <th>FIPS</th>\n",
       "    </tr>\n",
       "  </thead>\n",
       "  <tbody>\n",
       "    <tr>\n",
       "      <th>0</th>\n",
       "      <td>0500000US01001</td>\n",
       "      <td>Autauga County, Alabama</td>\n",
       "      <td>55380</td>\n",
       "      <td>55380</td>\n",
       "      <td>42527</td>\n",
       "      <td>10538</td>\n",
       "      <td>140</td>\n",
       "      <td>573</td>\n",
       "      <td>0</td>\n",
       "      <td>464</td>\n",
       "      <td>1565</td>\n",
       "      <td>10524</td>\n",
       "      <td>26934</td>\n",
       "      <td>28446</td>\n",
       "      <td>01001</td>\n",
       "    </tr>\n",
       "    <tr>\n",
       "      <th>1</th>\n",
       "      <td>0500000US01003</td>\n",
       "      <td>Baldwin County, Alabama</td>\n",
       "      <td>212830</td>\n",
       "      <td>212830</td>\n",
       "      <td>183471</td>\n",
       "      <td>19718</td>\n",
       "      <td>1645</td>\n",
       "      <td>1969</td>\n",
       "      <td>505</td>\n",
       "      <td>552</td>\n",
       "      <td>9711</td>\n",
       "      <td>19525</td>\n",
       "      <td>103496</td>\n",
       "      <td>109334</td>\n",
       "      <td>01003</td>\n",
       "    </tr>\n",
       "    <tr>\n",
       "      <th>2</th>\n",
       "      <td>0500000US01005</td>\n",
       "      <td>Barbour County, Alabama</td>\n",
       "      <td>25361</td>\n",
       "      <td>25361</td>\n",
       "      <td>11869</td>\n",
       "      <td>12066</td>\n",
       "      <td>82</td>\n",
       "      <td>134</td>\n",
       "      <td>65</td>\n",
       "      <td>25</td>\n",
       "      <td>1105</td>\n",
       "      <td>12031</td>\n",
       "      <td>13421</td>\n",
       "      <td>11940</td>\n",
       "      <td>01005</td>\n",
       "    </tr>\n",
       "    <tr>\n",
       "      <th>3</th>\n",
       "      <td>0500000US01007</td>\n",
       "      <td>Bibb County, Alabama</td>\n",
       "      <td>22493</td>\n",
       "      <td>22493</td>\n",
       "      <td>17272</td>\n",
       "      <td>5014</td>\n",
       "      <td>30</td>\n",
       "      <td>27</td>\n",
       "      <td>27</td>\n",
       "      <td>80</td>\n",
       "      <td>579</td>\n",
       "      <td>4981</td>\n",
       "      <td>12150</td>\n",
       "      <td>10343</td>\n",
       "      <td>01007</td>\n",
       "    </tr>\n",
       "    <tr>\n",
       "      <th>4</th>\n",
       "      <td>0500000US01009</td>\n",
       "      <td>Blount County, Alabama</td>\n",
       "      <td>57681</td>\n",
       "      <td>57681</td>\n",
       "      <td>55062</td>\n",
       "      <td>928</td>\n",
       "      <td>46</td>\n",
       "      <td>212</td>\n",
       "      <td>43</td>\n",
       "      <td>179</td>\n",
       "      <td>5342</td>\n",
       "      <td>881</td>\n",
       "      <td>28495</td>\n",
       "      <td>29186</td>\n",
       "      <td>01009</td>\n",
       "    </tr>\n",
       "    <tr>\n",
       "      <th>...</th>\n",
       "      <td>...</td>\n",
       "      <td>...</td>\n",
       "      <td>...</td>\n",
       "      <td>...</td>\n",
       "      <td>...</td>\n",
       "      <td>...</td>\n",
       "      <td>...</td>\n",
       "      <td>...</td>\n",
       "      <td>...</td>\n",
       "      <td>...</td>\n",
       "      <td>...</td>\n",
       "      <td>...</td>\n",
       "      <td>...</td>\n",
       "      <td>...</td>\n",
       "      <td>...</td>\n",
       "    </tr>\n",
       "    <tr>\n",
       "      <th>3215</th>\n",
       "      <td>0500000US72145</td>\n",
       "      <td>Vega Baja Municipio, Puerto Rico</td>\n",
       "      <td>52192</td>\n",
       "      <td>52192</td>\n",
       "      <td>43427</td>\n",
       "      <td>2589</td>\n",
       "      <td>64</td>\n",
       "      <td>9</td>\n",
       "      <td>9</td>\n",
       "      <td>302</td>\n",
       "      <td>50491</td>\n",
       "      <td>9</td>\n",
       "      <td>24963</td>\n",
       "      <td>27229</td>\n",
       "      <td>72145</td>\n",
       "    </tr>\n",
       "    <tr>\n",
       "      <th>3216</th>\n",
       "      <td>0500000US72147</td>\n",
       "      <td>Vieques Municipio, Puerto Rico</td>\n",
       "      <td>8642</td>\n",
       "      <td>8642</td>\n",
       "      <td>4730</td>\n",
       "      <td>651</td>\n",
       "      <td>8</td>\n",
       "      <td>14</td>\n",
       "      <td>14</td>\n",
       "      <td>88</td>\n",
       "      <td>8204</td>\n",
       "      <td>0</td>\n",
       "      <td>4277</td>\n",
       "      <td>4365</td>\n",
       "      <td>72147</td>\n",
       "    </tr>\n",
       "    <tr>\n",
       "      <th>3217</th>\n",
       "      <td>0500000US72149</td>\n",
       "      <td>Villalba Municipio, Puerto Rico</td>\n",
       "      <td>22403</td>\n",
       "      <td>22403</td>\n",
       "      <td>12713</td>\n",
       "      <td>773</td>\n",
       "      <td>0</td>\n",
       "      <td>0</td>\n",
       "      <td>0</td>\n",
       "      <td>6172</td>\n",
       "      <td>22346</td>\n",
       "      <td>18</td>\n",
       "      <td>10856</td>\n",
       "      <td>11547</td>\n",
       "      <td>72149</td>\n",
       "    </tr>\n",
       "    <tr>\n",
       "      <th>3218</th>\n",
       "      <td>0500000US72151</td>\n",
       "      <td>Yabucoa Municipio, Puerto Rico</td>\n",
       "      <td>33499</td>\n",
       "      <td>33499</td>\n",
       "      <td>6244</td>\n",
       "      <td>26418</td>\n",
       "      <td>0</td>\n",
       "      <td>11</td>\n",
       "      <td>0</td>\n",
       "      <td>225</td>\n",
       "      <td>33472</td>\n",
       "      <td>0</td>\n",
       "      <td>16202</td>\n",
       "      <td>17297</td>\n",
       "      <td>72151</td>\n",
       "    </tr>\n",
       "    <tr>\n",
       "      <th>3219</th>\n",
       "      <td>0500000US72153</td>\n",
       "      <td>Yauco Municipio, Puerto Rico</td>\n",
       "      <td>35428</td>\n",
       "      <td>35428</td>\n",
       "      <td>26607</td>\n",
       "      <td>1346</td>\n",
       "      <td>159</td>\n",
       "      <td>6</td>\n",
       "      <td>6</td>\n",
       "      <td>100</td>\n",
       "      <td>35203</td>\n",
       "      <td>16</td>\n",
       "      <td>16959</td>\n",
       "      <td>18469</td>\n",
       "      <td>72153</td>\n",
       "    </tr>\n",
       "  </tbody>\n",
       "</table>\n",
       "<p>3220 rows × 15 columns</p>\n",
       "</div>"
      ],
      "text/plain": [
       "              GEO_ID                              NAME  DP05_0001E  \\\n",
       "0     0500000US01001           Autauga County, Alabama       55380   \n",
       "1     0500000US01003           Baldwin County, Alabama      212830   \n",
       "2     0500000US01005           Barbour County, Alabama       25361   \n",
       "3     0500000US01007              Bibb County, Alabama       22493   \n",
       "4     0500000US01009            Blount County, Alabama       57681   \n",
       "...              ...                               ...         ...   \n",
       "3215  0500000US72145  Vega Baja Municipio, Puerto Rico       52192   \n",
       "3216  0500000US72147    Vieques Municipio, Puerto Rico        8642   \n",
       "3217  0500000US72149   Villalba Municipio, Puerto Rico       22403   \n",
       "3218  0500000US72151    Yabucoa Municipio, Puerto Rico       33499   \n",
       "3219  0500000US72153      Yauco Municipio, Puerto Rico       35428   \n",
       "\n",
       "      DP05_0033E  DP05_0037E  DP05_0038E  DP05_0039E  DP05_0044E  DP05_0045E  \\\n",
       "0          55380       42527       10538         140         573           0   \n",
       "1         212830      183471       19718        1645        1969         505   \n",
       "2          25361       11869       12066          82         134          65   \n",
       "3          22493       17272        5014          30          27          27   \n",
       "4          57681       55062         928          46         212          43   \n",
       "...          ...         ...         ...         ...         ...         ...   \n",
       "3215       52192       43427        2589          64           9           9   \n",
       "3216        8642        4730         651           8          14          14   \n",
       "3217       22403       12713         773           0           0           0   \n",
       "3218       33499        6244       26418           0          11           0   \n",
       "3219       35428       26607        1346         159           6           6   \n",
       "\n",
       "      DP05_0059E  DP05_0071E  DP05_0078E  DP05_0002E  DP05_0003E   FIPS  \n",
       "0            464        1565       10524       26934       28446  01001  \n",
       "1            552        9711       19525      103496      109334  01003  \n",
       "2             25        1105       12031       13421       11940  01005  \n",
       "3             80         579        4981       12150       10343  01007  \n",
       "4            179        5342         881       28495       29186  01009  \n",
       "...          ...         ...         ...         ...         ...    ...  \n",
       "3215         302       50491           9       24963       27229  72145  \n",
       "3216          88        8204           0        4277        4365  72147  \n",
       "3217        6172       22346          18       10856       11547  72149  \n",
       "3218         225       33472           0       16202       17297  72151  \n",
       "3219         100       35203          16       16959       18469  72153  \n",
       "\n",
       "[3220 rows x 15 columns]"
      ]
     },
     "execution_count": 110,
     "metadata": {},
     "output_type": "execute_result"
    }
   ],
   "source": [
    "df_built_clean"
   ]
  },
  {
   "cell_type": "code",
   "execution_count": 113,
   "metadata": {},
   "outputs": [
    {
     "data": {
      "text/plain": [
       "['GEO_ID',\n",
       " 'NAME',\n",
       " 'DP05_0001E',\n",
       " 'DP05_0033E',\n",
       " 'DP05_0037E',\n",
       " 'DP05_0038E',\n",
       " 'DP05_0039E',\n",
       " 'DP05_0044E',\n",
       " 'DP05_0045E',\n",
       " 'DP05_0059E',\n",
       " 'DP05_0071E',\n",
       " 'DP05_0078E',\n",
       " 'DP05_0002E',\n",
       " 'DP05_0003E',\n",
       " 'FIPS']"
      ]
     },
     "execution_count": 113,
     "metadata": {},
     "output_type": "execute_result"
    }
   ],
   "source": [
    "cols = df_built_clean.columns.tolist()\n",
    "cols"
   ]
  },
  {
   "cell_type": "code",
   "execution_count": 114,
   "metadata": {},
   "outputs": [],
   "source": [
    "cols = cols[-1:] + cols[:-1]"
   ]
  },
  {
   "cell_type": "code",
   "execution_count": 115,
   "metadata": {},
   "outputs": [],
   "source": [
    "df_built_clean = df_built_clean[cols]"
   ]
  },
  {
   "cell_type": "code",
   "execution_count": 116,
   "metadata": {},
   "outputs": [
    {
     "data": {
      "text/html": [
       "<div>\n",
       "<style scoped>\n",
       "    .dataframe tbody tr th:only-of-type {\n",
       "        vertical-align: middle;\n",
       "    }\n",
       "\n",
       "    .dataframe tbody tr th {\n",
       "        vertical-align: top;\n",
       "    }\n",
       "\n",
       "    .dataframe thead th {\n",
       "        text-align: right;\n",
       "    }\n",
       "</style>\n",
       "<table border=\"1\" class=\"dataframe\">\n",
       "  <thead>\n",
       "    <tr style=\"text-align: right;\">\n",
       "      <th></th>\n",
       "      <th>FIPS</th>\n",
       "      <th>GEO_ID</th>\n",
       "      <th>NAME</th>\n",
       "      <th>DP05_0001E</th>\n",
       "      <th>DP05_0033E</th>\n",
       "      <th>DP05_0037E</th>\n",
       "      <th>DP05_0038E</th>\n",
       "      <th>DP05_0039E</th>\n",
       "      <th>DP05_0044E</th>\n",
       "      <th>DP05_0045E</th>\n",
       "      <th>DP05_0059E</th>\n",
       "      <th>DP05_0071E</th>\n",
       "      <th>DP05_0078E</th>\n",
       "      <th>DP05_0002E</th>\n",
       "      <th>DP05_0003E</th>\n",
       "    </tr>\n",
       "  </thead>\n",
       "  <tbody>\n",
       "    <tr>\n",
       "      <th>0</th>\n",
       "      <td>01001</td>\n",
       "      <td>0500000US01001</td>\n",
       "      <td>Autauga County, Alabama</td>\n",
       "      <td>55380</td>\n",
       "      <td>55380</td>\n",
       "      <td>42527</td>\n",
       "      <td>10538</td>\n",
       "      <td>140</td>\n",
       "      <td>573</td>\n",
       "      <td>0</td>\n",
       "      <td>464</td>\n",
       "      <td>1565</td>\n",
       "      <td>10524</td>\n",
       "      <td>26934</td>\n",
       "      <td>28446</td>\n",
       "    </tr>\n",
       "    <tr>\n",
       "      <th>1</th>\n",
       "      <td>01003</td>\n",
       "      <td>0500000US01003</td>\n",
       "      <td>Baldwin County, Alabama</td>\n",
       "      <td>212830</td>\n",
       "      <td>212830</td>\n",
       "      <td>183471</td>\n",
       "      <td>19718</td>\n",
       "      <td>1645</td>\n",
       "      <td>1969</td>\n",
       "      <td>505</td>\n",
       "      <td>552</td>\n",
       "      <td>9711</td>\n",
       "      <td>19525</td>\n",
       "      <td>103496</td>\n",
       "      <td>109334</td>\n",
       "    </tr>\n",
       "    <tr>\n",
       "      <th>2</th>\n",
       "      <td>01005</td>\n",
       "      <td>0500000US01005</td>\n",
       "      <td>Barbour County, Alabama</td>\n",
       "      <td>25361</td>\n",
       "      <td>25361</td>\n",
       "      <td>11869</td>\n",
       "      <td>12066</td>\n",
       "      <td>82</td>\n",
       "      <td>134</td>\n",
       "      <td>65</td>\n",
       "      <td>25</td>\n",
       "      <td>1105</td>\n",
       "      <td>12031</td>\n",
       "      <td>13421</td>\n",
       "      <td>11940</td>\n",
       "    </tr>\n",
       "    <tr>\n",
       "      <th>3</th>\n",
       "      <td>01007</td>\n",
       "      <td>0500000US01007</td>\n",
       "      <td>Bibb County, Alabama</td>\n",
       "      <td>22493</td>\n",
       "      <td>22493</td>\n",
       "      <td>17272</td>\n",
       "      <td>5014</td>\n",
       "      <td>30</td>\n",
       "      <td>27</td>\n",
       "      <td>27</td>\n",
       "      <td>80</td>\n",
       "      <td>579</td>\n",
       "      <td>4981</td>\n",
       "      <td>12150</td>\n",
       "      <td>10343</td>\n",
       "    </tr>\n",
       "    <tr>\n",
       "      <th>4</th>\n",
       "      <td>01009</td>\n",
       "      <td>0500000US01009</td>\n",
       "      <td>Blount County, Alabama</td>\n",
       "      <td>57681</td>\n",
       "      <td>57681</td>\n",
       "      <td>55062</td>\n",
       "      <td>928</td>\n",
       "      <td>46</td>\n",
       "      <td>212</td>\n",
       "      <td>43</td>\n",
       "      <td>179</td>\n",
       "      <td>5342</td>\n",
       "      <td>881</td>\n",
       "      <td>28495</td>\n",
       "      <td>29186</td>\n",
       "    </tr>\n",
       "    <tr>\n",
       "      <th>...</th>\n",
       "      <td>...</td>\n",
       "      <td>...</td>\n",
       "      <td>...</td>\n",
       "      <td>...</td>\n",
       "      <td>...</td>\n",
       "      <td>...</td>\n",
       "      <td>...</td>\n",
       "      <td>...</td>\n",
       "      <td>...</td>\n",
       "      <td>...</td>\n",
       "      <td>...</td>\n",
       "      <td>...</td>\n",
       "      <td>...</td>\n",
       "      <td>...</td>\n",
       "      <td>...</td>\n",
       "    </tr>\n",
       "    <tr>\n",
       "      <th>3215</th>\n",
       "      <td>72145</td>\n",
       "      <td>0500000US72145</td>\n",
       "      <td>Vega Baja Municipio, Puerto Rico</td>\n",
       "      <td>52192</td>\n",
       "      <td>52192</td>\n",
       "      <td>43427</td>\n",
       "      <td>2589</td>\n",
       "      <td>64</td>\n",
       "      <td>9</td>\n",
       "      <td>9</td>\n",
       "      <td>302</td>\n",
       "      <td>50491</td>\n",
       "      <td>9</td>\n",
       "      <td>24963</td>\n",
       "      <td>27229</td>\n",
       "    </tr>\n",
       "    <tr>\n",
       "      <th>3216</th>\n",
       "      <td>72147</td>\n",
       "      <td>0500000US72147</td>\n",
       "      <td>Vieques Municipio, Puerto Rico</td>\n",
       "      <td>8642</td>\n",
       "      <td>8642</td>\n",
       "      <td>4730</td>\n",
       "      <td>651</td>\n",
       "      <td>8</td>\n",
       "      <td>14</td>\n",
       "      <td>14</td>\n",
       "      <td>88</td>\n",
       "      <td>8204</td>\n",
       "      <td>0</td>\n",
       "      <td>4277</td>\n",
       "      <td>4365</td>\n",
       "    </tr>\n",
       "    <tr>\n",
       "      <th>3217</th>\n",
       "      <td>72149</td>\n",
       "      <td>0500000US72149</td>\n",
       "      <td>Villalba Municipio, Puerto Rico</td>\n",
       "      <td>22403</td>\n",
       "      <td>22403</td>\n",
       "      <td>12713</td>\n",
       "      <td>773</td>\n",
       "      <td>0</td>\n",
       "      <td>0</td>\n",
       "      <td>0</td>\n",
       "      <td>6172</td>\n",
       "      <td>22346</td>\n",
       "      <td>18</td>\n",
       "      <td>10856</td>\n",
       "      <td>11547</td>\n",
       "    </tr>\n",
       "    <tr>\n",
       "      <th>3218</th>\n",
       "      <td>72151</td>\n",
       "      <td>0500000US72151</td>\n",
       "      <td>Yabucoa Municipio, Puerto Rico</td>\n",
       "      <td>33499</td>\n",
       "      <td>33499</td>\n",
       "      <td>6244</td>\n",
       "      <td>26418</td>\n",
       "      <td>0</td>\n",
       "      <td>11</td>\n",
       "      <td>0</td>\n",
       "      <td>225</td>\n",
       "      <td>33472</td>\n",
       "      <td>0</td>\n",
       "      <td>16202</td>\n",
       "      <td>17297</td>\n",
       "    </tr>\n",
       "    <tr>\n",
       "      <th>3219</th>\n",
       "      <td>72153</td>\n",
       "      <td>0500000US72153</td>\n",
       "      <td>Yauco Municipio, Puerto Rico</td>\n",
       "      <td>35428</td>\n",
       "      <td>35428</td>\n",
       "      <td>26607</td>\n",
       "      <td>1346</td>\n",
       "      <td>159</td>\n",
       "      <td>6</td>\n",
       "      <td>6</td>\n",
       "      <td>100</td>\n",
       "      <td>35203</td>\n",
       "      <td>16</td>\n",
       "      <td>16959</td>\n",
       "      <td>18469</td>\n",
       "    </tr>\n",
       "  </tbody>\n",
       "</table>\n",
       "<p>3220 rows × 15 columns</p>\n",
       "</div>"
      ],
      "text/plain": [
       "       FIPS          GEO_ID                              NAME  DP05_0001E  \\\n",
       "0     01001  0500000US01001           Autauga County, Alabama       55380   \n",
       "1     01003  0500000US01003           Baldwin County, Alabama      212830   \n",
       "2     01005  0500000US01005           Barbour County, Alabama       25361   \n",
       "3     01007  0500000US01007              Bibb County, Alabama       22493   \n",
       "4     01009  0500000US01009            Blount County, Alabama       57681   \n",
       "...     ...             ...                               ...         ...   \n",
       "3215  72145  0500000US72145  Vega Baja Municipio, Puerto Rico       52192   \n",
       "3216  72147  0500000US72147    Vieques Municipio, Puerto Rico        8642   \n",
       "3217  72149  0500000US72149   Villalba Municipio, Puerto Rico       22403   \n",
       "3218  72151  0500000US72151    Yabucoa Municipio, Puerto Rico       33499   \n",
       "3219  72153  0500000US72153      Yauco Municipio, Puerto Rico       35428   \n",
       "\n",
       "      DP05_0033E  DP05_0037E  DP05_0038E  DP05_0039E  DP05_0044E  DP05_0045E  \\\n",
       "0          55380       42527       10538         140         573           0   \n",
       "1         212830      183471       19718        1645        1969         505   \n",
       "2          25361       11869       12066          82         134          65   \n",
       "3          22493       17272        5014          30          27          27   \n",
       "4          57681       55062         928          46         212          43   \n",
       "...          ...         ...         ...         ...         ...         ...   \n",
       "3215       52192       43427        2589          64           9           9   \n",
       "3216        8642        4730         651           8          14          14   \n",
       "3217       22403       12713         773           0           0           0   \n",
       "3218       33499        6244       26418           0          11           0   \n",
       "3219       35428       26607        1346         159           6           6   \n",
       "\n",
       "      DP05_0059E  DP05_0071E  DP05_0078E  DP05_0002E  DP05_0003E  \n",
       "0            464        1565       10524       26934       28446  \n",
       "1            552        9711       19525      103496      109334  \n",
       "2             25        1105       12031       13421       11940  \n",
       "3             80         579        4981       12150       10343  \n",
       "4            179        5342         881       28495       29186  \n",
       "...          ...         ...         ...         ...         ...  \n",
       "3215         302       50491           9       24963       27229  \n",
       "3216          88        8204           0        4277        4365  \n",
       "3217        6172       22346          18       10856       11547  \n",
       "3218         225       33472           0       16202       17297  \n",
       "3219         100       35203          16       16959       18469  \n",
       "\n",
       "[3220 rows x 15 columns]"
      ]
     },
     "execution_count": 116,
     "metadata": {},
     "output_type": "execute_result"
    }
   ],
   "source": [
    "df_DP05_built_clean"
   ]
  },
  {
   "cell_type": "code",
   "execution_count": null,
   "metadata": {},
   "outputs": [],
   "source": []
  }
 ],
 "metadata": {
  "kernelspec": {
   "display_name": "Python 3",
   "language": "python",
   "name": "python3"
  },
  "language_info": {
   "codemirror_mode": {
    "name": "ipython",
    "version": 3
   },
   "file_extension": ".py",
   "mimetype": "text/x-python",
   "name": "python",
   "nbconvert_exporter": "python",
   "pygments_lexer": "ipython3",
   "version": "3.7.9"
  }
 },
 "nbformat": 4,
 "nbformat_minor": 2
}
