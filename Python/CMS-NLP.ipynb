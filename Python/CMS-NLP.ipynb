{
 "cells": [
  {
   "cell_type": "markdown",
   "id": "af231908",
   "metadata": {},
   "source": [
    "# Import packages"
   ]
  },
  {
   "cell_type": "code",
   "execution_count": null,
   "id": "552b8c28",
   "metadata": {},
   "outputs": [],
   "source": [
    "import pandas as pd\n",
    "import numpy as np\n",
    "import sklearn\n",
    "import re\n",
    "import nltk\n",
    "import matplotlib.pyplot as plt\n",
    "\n",
    "from cms import Preprocess\n",
    "from typing import List\n",
    "from sklearn.feature_extraction.text import TfidfVectorizer\n",
    "from sklearn.cluster import KMeans\n",
    "from sklearn.decomposition import PCA\n",
    "from sklearn.metrics.pairwise import cosine_similarity\n",
    "\n",
    "#nltk.download('stopwords')\n",
    "#nltk.download('punkt')\n",
    "#nltk.download('wordnet')"
   ]
  },
  {
   "cell_type": "markdown",
   "id": "2e114022",
   "metadata": {},
   "source": [
    "# Read file"
   ]
  },
  {
   "cell_type": "code",
   "execution_count": null,
   "id": "67205da8",
   "metadata": {},
   "outputs": [],
   "source": [
    "path = './'\n",
    "file = 'Hospital Review Data for NLP processing.xlsx'"
   ]
  },
  {
   "cell_type": "code",
   "execution_count": null,
   "id": "db6029da",
   "metadata": {},
   "outputs": [],
   "source": [
    "df = pd.read_excel(path + file)"
   ]
  },
  {
   "cell_type": "code",
   "execution_count": null,
   "id": "9b496990",
   "metadata": {},
   "outputs": [],
   "source": [
    "df"
   ]
  },
  {
   "cell_type": "markdown",
   "id": "45c1e67e",
   "metadata": {},
   "source": [
    "# Preprocess data"
   ]
  },
  {
   "cell_type": "code",
   "execution_count": null,
   "id": "12b33670",
   "metadata": {},
   "outputs": [],
   "source": [
    "# Stopwords, lemmatization, and tokenizing\n",
    "df['text'] = df['Review Comment'].apply(lambda text: Preprocess(text).process_as_string())"
   ]
  },
  {
   "cell_type": "code",
   "execution_count": null,
   "id": "7d111796",
   "metadata": {
    "scrolled": true
   },
   "outputs": [],
   "source": [
    "df"
   ]
  },
  {
   "cell_type": "markdown",
   "id": "0ca3700c",
   "metadata": {},
   "source": [
    "# Create tfidf matrix"
   ]
  },
  {
   "cell_type": "code",
   "execution_count": null,
   "id": "be45137a",
   "metadata": {},
   "outputs": [],
   "source": [
    "tfidf = TfidfVectorizer()\n",
    "tfidf_matrix = tfidf.fit_transform(df['text'])"
   ]
  },
  {
   "cell_type": "code",
   "execution_count": null,
   "id": "7f63d65c",
   "metadata": {
    "scrolled": true
   },
   "outputs": [],
   "source": [
    "pd.DataFrame(data=tfidf_matrix.toarray(), columns=tfidf.get_feature_names())"
   ]
  },
  {
   "cell_type": "code",
   "execution_count": null,
   "id": "12d60e03",
   "metadata": {},
   "outputs": [],
   "source": [
    "tfidf_matrix.get_shape()"
   ]
  },
  {
   "cell_type": "code",
   "execution_count": null,
   "id": "2b703a5f",
   "metadata": {},
   "outputs": [],
   "source": [
    "tfidf.get_feature_names()"
   ]
  },
  {
   "cell_type": "markdown",
   "id": "39f9c978",
   "metadata": {},
   "source": [
    "# Build Kmeans clustering"
   ]
  },
  {
   "cell_type": "code",
   "execution_count": null,
   "id": "87d219a5",
   "metadata": {},
   "outputs": [],
   "source": [
    "n_clusters = 3\n",
    "km = KMeans(n_clusters=n_clusters, random_state=1)\n",
    "km.fit(tfidf_matrix)\n",
    "clusters = km.labels_.tolist()"
   ]
  },
  {
   "cell_type": "code",
   "execution_count": null,
   "id": "0227fe2a",
   "metadata": {},
   "outputs": [],
   "source": [
    "df['label'] = clusters"
   ]
  },
  {
   "cell_type": "code",
   "execution_count": null,
   "id": "198e540d",
   "metadata": {
    "scrolled": true
   },
   "outputs": [],
   "source": [
    "# Uncomment to see entire dataframe\n",
    "#pd.set_option(\"display.max_colwidth\", -1)\n",
    "#pd.set_option(\"display.max_row\", None)\n",
    "df"
   ]
  },
  {
   "cell_type": "markdown",
   "id": "d6d26e0f",
   "metadata": {},
   "source": [
    "# Apply PCA for data visualization"
   ]
  },
  {
   "cell_type": "code",
   "execution_count": null,
   "id": "5f78b986",
   "metadata": {},
   "outputs": [],
   "source": [
    "# Calculate distance\n",
    "dist = 1 - cosine_similarity(tfidf_matrix)"
   ]
  },
  {
   "cell_type": "code",
   "execution_count": null,
   "id": "face0210",
   "metadata": {},
   "outputs": [],
   "source": [
    "pca = PCA(n_components=2)\n",
    "pos = pca.fit_transform(dist)\n",
    "xs, ys = pos[:, 0], pos[:, 1]"
   ]
  },
  {
   "cell_type": "code",
   "execution_count": null,
   "id": "c9fcd286",
   "metadata": {},
   "outputs": [],
   "source": [
    "xys = pd.DataFrame(dict(x=xs, y=ys, label=clusters))"
   ]
  },
  {
   "cell_type": "code",
   "execution_count": null,
   "id": "bd9d462d",
   "metadata": {},
   "outputs": [],
   "source": [
    "xys"
   ]
  },
  {
   "cell_type": "code",
   "execution_count": null,
   "id": "8aabe1cb",
   "metadata": {},
   "outputs": [],
   "source": [
    "groups = xys.groupby('label')"
   ]
  },
  {
   "cell_type": "code",
   "execution_count": null,
   "id": "ba55db2d",
   "metadata": {
    "scrolled": false
   },
   "outputs": [],
   "source": [
    "names = {0: 'Good/Neutral', 1: 'Negative', 2: 'Good/Neutral'}\n",
    "fig, ax = plt.subplots(figsize=(17, 9))\n",
    "ax.margins(0.05)\n",
    "\n",
    "for name, group in groups:\n",
    "    ax.plot(group.x, group.y, marker='o', linestyle='', ms=12, label=names[name])\n",
    "\n",
    "for i in range(len(xys)):\n",
    "    ax.text(xys.x[i], xys.y[i], xys.index[i])\n",
    "\n",
    "ax.legend(numpoints=1)"
   ]
  },
  {
   "cell_type": "code",
   "execution_count": null,
   "id": "2ab5e98f",
   "metadata": {},
   "outputs": [],
   "source": [
    "output = df[['AT_PHYSN_NPI', 'label']]"
   ]
  },
  {
   "cell_type": "markdown",
   "id": "ec593f40",
   "metadata": {},
   "source": [
    "# Write out as csv"
   ]
  },
  {
   "cell_type": "code",
   "execution_count": null,
   "id": "4424092f",
   "metadata": {},
   "outputs": [],
   "source": [
    "#output.to_csv('./output', index=False)"
   ]
  },
  {
   "cell_type": "code",
   "execution_count": null,
   "id": "63507e7d",
   "metadata": {},
   "outputs": [],
   "source": []
  }
 ],
 "metadata": {
  "kernelspec": {
   "display_name": "Python 3",
   "language": "python",
   "name": "python3"
  },
  "language_info": {
   "codemirror_mode": {
    "name": "ipython",
    "version": 3
   },
   "file_extension": ".py",
   "mimetype": "text/x-python",
   "name": "python",
   "nbconvert_exporter": "python",
   "pygments_lexer": "ipython3",
   "version": "3.7.10"
  }
 },
 "nbformat": 4,
 "nbformat_minor": 5
}
